{
  "nbformat": 4,
  "nbformat_minor": 0,
  "metadata": {
    "colab": {
      "provenance": [],
      "authorship_tag": "ABX9TyM8ovGeTDkxiHrYhvQcI2bj",
      "include_colab_link": true
    },
    "kernelspec": {
      "name": "python3",
      "display_name": "Python 3"
    },
    "language_info": {
      "name": "python"
    }
  },
  "cells": [
    {
      "cell_type": "markdown",
      "metadata": {
        "id": "view-in-github",
        "colab_type": "text"
      },
      "source": [
        "<a href=\"https://colab.research.google.com/github/anabergerr/aula-pln/blob/main/aula_py_PLN.ipynb\" target=\"_parent\"><img src=\"https://colab.research.google.com/assets/colab-badge.svg\" alt=\"Open In Colab\"/></a>"
      ]
    },
    {
      "cell_type": "code",
      "source": [
        "# 1. Instalar NLTK (uma vez)\n",
        "!pip install nltk"
      ],
      "metadata": {
        "colab": {
          "base_uri": "https://localhost:8080/"
        },
        "id": "_1iLzePM8kAU",
        "outputId": "52863dcb-e62c-4e83-ca47-cb3679e31e4c"
      },
      "execution_count": null,
      "outputs": [
        {
          "output_type": "stream",
          "name": "stdout",
          "text": [
            "Requirement already satisfied: nltk in /usr/local/lib/python3.12/dist-packages (3.9.1)\n",
            "Requirement already satisfied: click in /usr/local/lib/python3.12/dist-packages (from nltk) (8.2.1)\n",
            "Requirement already satisfied: joblib in /usr/local/lib/python3.12/dist-packages (from nltk) (1.5.1)\n",
            "Requirement already satisfied: regex>=2021.8.3 in /usr/local/lib/python3.12/dist-packages (from nltk) (2024.11.6)\n",
            "Requirement already satisfied: tqdm in /usr/local/lib/python3.12/dist-packages (from nltk) (4.67.1)\n"
          ]
        }
      ]
    },
    {
      "cell_type": "code",
      "source": [
        "from transformers import pipeline\n",
        "from PIL import Image\n",
        "import requests\n",
        "from io import BytesIO\n",
        "\n",
        "# Carregar modelo\n",
        "gerador_de_legenda = pipeline(\"image-to-text\", model=\"adalbertojunior/image_captioning_portuguese\")\n",
        "\n",
        "# Função para gerar legenda de uma URL\n",
        "def gerar_legenda(url):\n",
        "    response = requests.get(url)\n",
        "    response.raise_for_status()  # Garante que a requisição foi bem-sucedida\n",
        "    image = Image.open(BytesIO(response.content))\n",
        "    legenda = gerador_de_legenda(image)\n",
        "    return legenda[0]['generated_text']\n",
        "\n",
        "# URL da imagem do gato\n",
        "url_1 = \"https://images.unsplash.com/photo-1560807707-8cc77767d783\"\n",
        "print(f\"URL da imagem: {url_1}\")\n",
        "print(f\"Legenda gerada: {gerar_legenda(url_1)}\")\n",
        "\n"
      ],
      "metadata": {
        "colab": {
          "base_uri": "https://localhost:8080/"
        },
        "id": "HaAtIJWLC6D3",
        "outputId": "e0245f5e-3263-44c7-aaf1-a6371fe98fc2"
      },
      "execution_count": 29,
      "outputs": [
        {
          "output_type": "stream",
          "name": "stderr",
          "text": [
            "Device set to use cpu\n"
          ]
        },
        {
          "output_type": "stream",
          "name": "stdout",
          "text": [
            "URL da imagem: https://images.unsplash.com/photo-1560807707-8cc77767d783\n",
            "Legenda gerada: um cão pequeno está deitado sobre uma almofada                        ó  ó                                                                                                                                                                                                       \n"
          ]
        }
      ]
    },
    {
      "cell_type": "code",
      "source": [
        "# Importe as bibliotecas necessárias\n",
        "import string\n",
        "from collections import Counter\n",
        "\n",
        "# Texto de exemplo, similar ao que seria usado para comparar palavras\n",
        "texto = \"\"\"\n",
        "O Processamento de Linguagem Natural, ou PLN, principalmente explora duas\n",
        "grandes ideias principais. A primeira, temos a Compreensão da Linguagem Natural, ou NLU.\n",
        "Esta área se concentra em como extraímos significado de combinações de letras.\n",
        "Pense em sistemas de IA que filtram seus e-mails de spam.\n",
        "E em segundo lugar, temos a Geração de Linguagem Natural, ou NLG.\n",
        "Esta parte do PLN trata de como geramos linguagem a partir do conhecimento.\n",
        "Isso inclui IAs que realizam traduções de idiomas, como o Google Tradutor, e IAs\n",
        "que resumem documentos longos. A chave para resolver ambos os problemas, tanto\n",
        "a compreensão quanto a geração, é entender o significado de uma palavra.\n",
        "\"\"\"\n",
        "\n",
        "def contar_frequencia_palavras(texto):\n",
        "    # Converte o texto para minúsculas para unificar as palavras\n",
        "    texto_minusculo = texto.lower()\n",
        "\n",
        "    # Remove pontuações\n",
        "    texto_sem_pontuacao = texto_minusculo.translate(str.maketrans('', '', string.punctuation))\n",
        "\n",
        "    # Divide o texto em uma lista de palavras\n",
        "    palavras = texto_sem_pontuacao.split()\n",
        "\n",
        "    # Usa o Counter da biblioteca collections para contar a frequência de cada palavra\n",
        "    contagem = Counter(palavras)\n",
        "\n",
        "    return contagem\n",
        "\n",
        "# Chama a função e armazena o resultado\n",
        "frequencia_palavras = contar_frequencia_palavras(texto)\n",
        "\n",
        "# Imprime as 10 palavras mais comuns\n",
        "print(\"As 10 palavras mais frequentes no texto são:\")\n",
        "for palavra, contagem in frequencia_palavras.most_common(10):\n",
        "    print(f\"'{palavra}': {contagem} vez(es)\")\n",
        "\n",
        "# Você também pode buscar a frequência de uma palavra específica\n",
        "palavra_chave = \"linguagem\"\n",
        "if palavra_chave in frequencia_palavras:\n",
        "    print(f\"\\nA palavra '{palavra_chave}' apareceu {frequencia_palavras[palavra_chave]} vez(es).\")\n",
        "else:\n",
        "    print(f\"\\nA palavra '{palavra_chave}' não foi encontrada no texto.\")"
      ],
      "metadata": {
        "colab": {
          "base_uri": "https://localhost:8080/"
        },
        "id": "dat31qTaCg6C",
        "outputId": "8cdea193-2751-4c2a-cb61-750b63101549"
      },
      "execution_count": null,
      "outputs": [
        {
          "output_type": "stream",
          "name": "stdout",
          "text": [
            "As 10 palavras mais frequentes no texto são:\n",
            "'de': 9 vez(es)\n",
            "'a': 7 vez(es)\n",
            "'linguagem': 4 vez(es)\n",
            "'o': 3 vez(es)\n",
            "'natural': 3 vez(es)\n",
            "'ou': 3 vez(es)\n",
            "'em': 3 vez(es)\n",
            "'como': 3 vez(es)\n",
            "'que': 3 vez(es)\n",
            "'pln': 2 vez(es)\n",
            "\n",
            "A palavra 'linguagem' apareceu 4 vez(es).\n"
          ]
        }
      ]
    },
    {
      "cell_type": "code",
      "execution_count": null,
      "metadata": {
        "colab": {
          "base_uri": "https://localhost:8080/"
        },
        "id": "RcFoh3BC8eJx",
        "outputId": "0569ac30-1a45-4578-d64f-7db2a19445b6"
      },
      "outputs": [
        {
          "output_type": "stream",
          "name": "stdout",
          "text": [
            "Tokens originais: ['O', 'gato', 'está', 'no', 'banco', 'esperando', 'o', 'dono', '.']\n",
            "Tokens sem stopwords: ['gato', 'banco', 'esperando', 'dono', '.']\n"
          ]
        },
        {
          "output_type": "stream",
          "name": "stderr",
          "text": [
            "[nltk_data] Downloading package punkt to /root/nltk_data...\n",
            "[nltk_data]   Package punkt is already up-to-date!\n",
            "[nltk_data] Downloading package stopwords to /root/nltk_data...\n",
            "[nltk_data]   Package stopwords is already up-to-date!\n"
          ]
        }
      ],
      "source": [
        "import nltk\n",
        "from nltk.corpus import stopwords\n",
        "from nltk.tokenize import word_tokenize\n",
        "\n",
        "# Baixar recursos do NLTK (primeira vez que rodar)\n",
        "nltk.download(\"punkt\")\n",
        "nltk.download(\"stopwords\")\n",
        "\n",
        "texto = \"O gato está no banco esperando o dono.\"\n",
        "\n",
        "# Tokenizar (separar em palavras)\n",
        "tokens = word_tokenize(texto)\n",
        "\n",
        "# Remover stopwords\n",
        "stop_words = set(stopwords.words(\"portuguese\"))\n",
        "tokens_filtrados = [w for w in tokens if w.lower() not in stop_words]\n",
        "\n",
        "print(\"Tokens originais:\", tokens)\n",
        "print(\"Tokens sem stopwords:\", tokens_filtrados)"
      ]
    },
    {
      "cell_type": "code",
      "source": [
        "from transformers import pipeline\n",
        "\n",
        "# Modelo específico para português\n",
        "analise_sentimento = pipeline(\n",
        "    \"sentiment-analysis\",\n",
        "    model=\"pysentimiento/robertuito-sentiment-analysis\"\n",
        ")\n",
        "\n",
        "# Exemplos claros pra análise de sentimento\n",
        "frases = [\n",
        "    \"Que dia maravilhoso! Estou muito feliz 😄\",\n",
        "    \"Não gostei do serviço, muito ruim 😡\",\n",
        "    \"O filme foi legal, mas o final não gostei 😐\",\n",
        "    \"A comida estava perfeita 🍕❤️\",\n",
        "    \"O produto chegou quebrado e demorou para entregar 😞\",\n",
        "]\n",
        "\n",
        "# Função pra adicionar emojis conforme o sentimento\n",
        "def exibir_sentimento(resultado):\n",
        "    label = resultado['label']\n",
        "    score = resultado['score']\n",
        "    if label == \"POS\":\n",
        "        emoji = \"😊\"\n",
        "        texto = \"Positivo\"\n",
        "    elif label == \"NEG\":\n",
        "        emoji = \"😢\"\n",
        "        texto = \"Negativo\"\n",
        "    else:\n",
        "        emoji = \"😐\"\n",
        "        texto = \"Neutro\"\n",
        "    return f\"{emoji} {texto} (confiança: {score:.2f})\"\n",
        "\n",
        "# Rodar análise e mostrar de forma divertida\n",
        "for frase in frases:\n",
        "    resultado = analise_sentimento(frase)[0]\n",
        "    print(f\"Frase: {frase}\")\n",
        "    print(f\"Sentimento: {exibir_sentimento(resultado)}\")\n",
        "    print(\"-\"*50)\n"
      ],
      "metadata": {
        "colab": {
          "base_uri": "https://localhost:8080/"
        },
        "id": "h1ehAqII8_5K",
        "outputId": "bda6b6c7-24b0-43fa-e624-fa35ecf95d6d"
      },
      "execution_count": null,
      "outputs": [
        {
          "output_type": "stream",
          "name": "stderr",
          "text": [
            "Device set to use cpu\n"
          ]
        },
        {
          "output_type": "stream",
          "name": "stdout",
          "text": [
            "Frase: Que dia maravilhoso! Estou muito feliz 😄\n",
            "Sentimento: 😊 Positivo (confiança: 0.94)\n",
            "--------------------------------------------------\n",
            "Frase: Não gostei do serviço, muito ruim 😡\n",
            "Sentimento: 😢 Negativo (confiança: 0.93)\n",
            "--------------------------------------------------\n",
            "Frase: O filme foi legal, mas o final não gostei 😐\n",
            "Sentimento: 😊 Positivo (confiança: 0.38)\n",
            "--------------------------------------------------\n",
            "Frase: A comida estava perfeita 🍕❤️\n",
            "Sentimento: 😊 Positivo (confiança: 0.88)\n",
            "--------------------------------------------------\n",
            "Frase: O produto chegou quebrado e demorou para entregar 😞\n",
            "Sentimento: 😢 Negativo (confiança: 0.79)\n",
            "--------------------------------------------------\n"
          ]
        }
      ]
    },
    {
      "cell_type": "code",
      "source": [
        "from sentence_transformers import SentenceTransformer, util\n",
        "\n",
        "# Carregar modelo de embeddings\n",
        "modelo = SentenceTransformer(\"paraphrase-multilingual-MiniLM-L12-v2\")\n",
        "\n",
        "# Frases para comparar\n",
        "frases = [\"O gato está dormindo.\", \"O felino está descansando.\", \"O carro está estacionado.\"]\n",
        "\n",
        "# Gerar embeddings\n",
        "embeddings = modelo.encode(frases)\n",
        "\n",
        "print(\"Embeddings:\", embeddings)\n",
        "\n",
        "# Calcular similaridade entre as frases\n",
        "similaridade = util.cos_sim(embeddings, embeddings)\n",
        "\n",
        "# Função para categorizar similaridade\n",
        "def categoria(score):\n",
        "    if score > 0.75:\n",
        "        return \"Muito parecidas 😺\"\n",
        "    elif score > 0.4:\n",
        "        return \"Mais ou menos 🤔\"\n",
        "    else:\n",
        "        return \"Pouco parecidas 🚗\"\n",
        "\n",
        "# Mostrar de forma legível\n",
        "print(\"Comparação de similaridade entre frases:\\n\")\n",
        "for i in range(len(frases)):\n",
        "    for j in range(len(frases)):\n",
        "        print(f\"'{frases[i]}' vs '{frases[j]}': {similaridade[i][j]:.2f} -> {categoria(similaridade[i][j])}\")\n",
        "    print(\"-\" * 50)\n",
        "\n"
      ],
      "metadata": {
        "colab": {
          "base_uri": "https://localhost:8080/"
        },
        "id": "diQ7VG1rAoTk",
        "outputId": "324c2590-b19b-46a8-cb13-835e90cda2c4"
      },
      "execution_count": null,
      "outputs": [
        {
          "output_type": "stream",
          "name": "stdout",
          "text": [
            "Embeddings: [[ 0.32691476  0.04739254 -0.02563266 ... -0.2634396   0.3068026\n",
            "  -0.1990872 ]\n",
            " [ 0.43505594 -0.18896042 -0.1226519  ... -0.04211857  0.08424398\n",
            "   0.08033183]\n",
            " [ 0.12796813  0.21660613 -0.22358264 ...  0.17964071 -0.32617486\n",
            "   0.35027084]]\n",
            "Comparação de similaridade entre frases:\n",
            "\n",
            "'O gato está dormindo.' vs 'O gato está dormindo.': 1.00 -> Muito parecidas 😺\n",
            "'O gato está dormindo.' vs 'O felino está descansando.': 0.81 -> Muito parecidas 😺\n",
            "'O gato está dormindo.' vs 'O carro está estacionado.': 0.14 -> Pouco parecidas 🚗\n",
            "--------------------------------------------------\n",
            "'O felino está descansando.' vs 'O gato está dormindo.': 0.81 -> Muito parecidas 😺\n",
            "'O felino está descansando.' vs 'O felino está descansando.': 1.00 -> Muito parecidas 😺\n",
            "'O felino está descansando.' vs 'O carro está estacionado.': 0.23 -> Pouco parecidas 🚗\n",
            "--------------------------------------------------\n",
            "'O carro está estacionado.' vs 'O gato está dormindo.': 0.14 -> Pouco parecidas 🚗\n",
            "'O carro está estacionado.' vs 'O felino está descansando.': 0.23 -> Pouco parecidas 🚗\n",
            "'O carro está estacionado.' vs 'O carro está estacionado.': 1.00 -> Muito parecidas 😺\n",
            "--------------------------------------------------\n"
          ]
        }
      ]
    }
  ]
}